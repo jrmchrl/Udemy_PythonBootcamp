# Exkurs Grafiken zeichnen
            
%matplotlib inline
import matplotlib.pyplot as plt

xs = [1, 2, 3]
ys = [4, 7, 4]
plt.plot(xs, ys)
plt.show()


xs = []
ys = []

name = "Anna"
gender = "F"
state= "CA"

with open("../data/names.csv", "r") as file:
    counter = 0
    for line in file:
        counter = counter + 1

        line_splitted = line.strip().split(",")
        if line_splitted[1] == name and line_splitted[3] == gender and line_splitted[4] == state:
            xs.append(int(line_splitted[2]))
            ys.append(int(line_splitted[5]))
            #print(line_splitted)
            #break
        
print(xs)
print(ys)
#        print(line.strip().split(","))

#        if counter >= 4:
#            break

# Zu extrahierende Zeilen für Diagram
# 12345,Anna,1910,F,CA,999
# 12345,Anna,1910,F,CA,555


# x = jahr
# y = wie oft wurde name vergeben




%matplotlib inline
import matplotlib.pyplot as plt

plt.plot(xs, ys)
plt.show()


# Aufgabe, Max, 1950-2000

xs = []
ys = []

occurences = 0

name = "Max"
gender = "M"
state = "CA"

with open ("../data/names.csv", "r") as file:
    counter = 0
    for line in file:
        counter = counter + 1

        line_splitted = line.strip().split(",")
        
        if line_splitted[2] == "Year":
            continue
        year = int(line_splitted[2])
        if line_splitted[1] == name and year >= 1950 and year <= 2000 and line_splitted[3] == gender and line_splitted[4] == state:
            occurences = occurences + int(line_splitted[5])
            xs.append(int(line_splitted[2]))
            ys.append(int(line_splitted[5]))

print(xs)
print(ys)
print(occurences)

%matplotlib inline
import matplotlib.pyplot as plt

plt.plot(xs, ys)
plt.show()






